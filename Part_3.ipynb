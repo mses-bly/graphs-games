{
 "cells": [
  {
   "cell_type": "markdown",
   "metadata": {},
   "source": [
    "### 5a"
   ]
  },
  {
   "cell_type": "code",
   "execution_count": 102,
   "metadata": {
    "collapsed": true
   },
   "outputs": [],
   "source": [
    "import random\n",
    "import math"
   ]
  },
  {
   "cell_type": "code",
   "execution_count": 99,
   "metadata": {
    "collapsed": false
   },
   "outputs": [],
   "source": [
    "# for each call, we generate N independent pieces of evidence and return how many times the majority are correct:\n",
    "# number of ones over N\n",
    "def gen_evidence(N, epsilon=0.005):\n",
    "    evidence = []\n",
    "    for i in range(N):\n",
    "        prob = random.uniform(0, 1)\n",
    "        if(prob +epsilon) > (0.5):\n",
    "            evidence.append(1)\n",
    "        else:\n",
    "            evidence.append(0)\n",
    "    return evidence, sum(evidence) / len(evidence)"
   ]
  },
  {
   "cell_type": "markdown",
   "metadata": {},
   "source": [
    "### 5b"
   ]
  },
  {
   "cell_type": "code",
   "execution_count": 105,
   "metadata": {
    "collapsed": false
   },
   "outputs": [
    {
     "name": "stdout",
     "output_type": "stream",
     "text": [
      "For 5000 indepent votes, people are right 0.82 of times\n",
      "Probability lower bound: 0.22119921692859512\n",
      "For 10000 indepent votes, people are right 0.86 of times\n",
      "Probability lower bound: 0.3934693402873666\n",
      "For 15000 indepent votes, people are right 0.9 of times\n",
      "Probability lower bound: 0.5276334472589853\n",
      "For 20000 indepent votes, people are right 0.94 of times\n",
      "Probability lower bound: 0.6321205588285577\n",
      "For 25000 indepent votes, people are right 0.94 of times\n",
      "Probability lower bound: 0.7134952031398099\n",
      "For 30000 indepent votes, people are right 0.95 of times\n",
      "Probability lower bound: 0.7768698398515702\n",
      "For 35000 indepent votes, people are right 0.98 of times\n",
      "Probability lower bound: 0.8262260565495548\n",
      "For 40000 indepent votes, people are right 0.98 of times\n",
      "Probability lower bound: 0.8646647167633873\n",
      "For 45000 indepent votes, people are right 0.96 of times\n",
      "Probability lower bound: 0.8946007754381357\n",
      "For 50000 indepent votes, people are right 0.98 of times\n",
      "Probability lower bound: 0.9179150013761012\n",
      "For 55000 indepent votes, people are right 1.0 of times\n",
      "Probability lower bound: 0.9360721387932924\n",
      "For 60000 indepent votes, people are right 1.0 of times\n",
      "Probability lower bound: 0.950212931632136\n",
      "For 65000 indepent votes, people are right 0.98 of times\n",
      "Probability lower bound: 0.961225792168278\n",
      "For 70000 indepent votes, people are right 1.0 of times\n",
      "Probability lower bound: 0.9698026165776815\n",
      "For 75000 indepent votes, people are right 0.98 of times\n",
      "Probability lower bound: 0.9764822541439909\n",
      "For 80000 indepent votes, people are right 1.0 of times\n",
      "Probability lower bound: 0.9816843611112658\n",
      "For 85000 indepent votes, people are right 1.0 of times\n",
      "Probability lower bound: 0.9857357660910008\n",
      "For 90000 indepent votes, people are right 1.0 of times\n",
      "Probability lower bound: 0.9888910034617577\n",
      "For 95000 indepent votes, people are right 1.0 of times\n",
      "Probability lower bound: 0.9913483047968794\n"
     ]
    }
   ],
   "source": [
    "\n",
    "for i in range(5000, 100000, 5000):\n",
    "    results = []\n",
    "    for j in range(100):\n",
    "        results.append(gen_evidence(i)[1])\n",
    "    print('For %s indepent votes, people are right %s of times' % (i, len(list(filter(lambda x: x > 0.5, results))) / 100.0))\n",
    "    print('Probability lower bound: %s' % (1 - math.exp(-2*i*0.005*0.005)))"
   ]
  }
 ],
 "metadata": {
  "kernelspec": {
   "display_name": "Python [Root]",
   "language": "python",
   "name": "Python [Root]"
  },
  "language_info": {
   "codemirror_mode": {
    "name": "ipython",
    "version": 3
   },
   "file_extension": ".py",
   "mimetype": "text/x-python",
   "name": "python",
   "nbconvert_exporter": "python",
   "pygments_lexer": "ipython3",
   "version": "3.5.2"
  }
 },
 "nbformat": 4,
 "nbformat_minor": 0
}

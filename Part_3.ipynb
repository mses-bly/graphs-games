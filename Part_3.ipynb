{
 "cells": [
  {
   "cell_type": "markdown",
   "metadata": {},
   "source": [
    "### 5a"
   ]
  },
  {
   "cell_type": "code",
   "execution_count": 1,
   "metadata": {
    "collapsed": true
   },
   "outputs": [],
   "source": [
    "import random"
   ]
  },
  {
   "cell_type": "code",
   "execution_count": 87,
   "metadata": {
    "collapsed": false
   },
   "outputs": [
    {
     "name": "stdout",
     "output_type": "stream",
     "text": [
      "([1, 1, 1, 0, 0, 0, 0, 0, 0, 0, 0, 0, 1, 0, 0, 1, 0, 0, 0, 1], 0.3)\n"
     ]
    }
   ],
   "source": [
    "# for each call, we generate N independent pieces of evidence and return how many times the majority are correct:\n",
    "# number of ones over N\n",
    "def gen_evidence(N, epsilon=0.005):\n",
    "    evidence = []\n",
    "    for i in range(N):\n",
    "        prob = random.uniform(0, 1)\n",
    "        if prob > (0.5 + epsilon):\n",
    "            evidence.append(1)\n",
    "        else:\n",
    "            evidence.append(0)\n",
    "    return evidence, sum(evidence) / len(evidence)"
   ]
  },
  {
   "cell_type": "markdown",
   "metadata": {},
   "source": [
    "### 5b"
   ]
  },
  {
   "cell_type": "code",
   "execution_count": 98,
   "metadata": {
    "collapsed": false
   },
   "outputs": [
    {
     "name": "stdout",
     "output_type": "stream",
     "text": [
      "For 5000 indepent votes, people are right 0.21 of times\n",
      "For 10000 indepent votes, people are right 0.19 of times\n",
      "For 15000 indepent votes, people are right 0.12 of times\n",
      "For 20000 indepent votes, people are right 0.05 of times\n",
      "For 25000 indepent votes, people are right 0.06 of times\n",
      "For 30000 indepent votes, people are right 0.02 of times\n",
      "For 35000 indepent votes, people are right 0.03 of times\n",
      "For 40000 indepent votes, people are right 0.01 of times\n",
      "For 45000 indepent votes, people are right 0.02 of times\n",
      "For 50000 indepent votes, people are right 0.0 of times\n",
      "For 55000 indepent votes, people are right 0.03 of times\n",
      "For 60000 indepent votes, people are right 0.0 of times\n",
      "For 65000 indepent votes, people are right 0.0 of times\n",
      "For 70000 indepent votes, people are right 0.01 of times\n",
      "For 75000 indepent votes, people are right 0.01 of times\n",
      "For 80000 indepent votes, people are right 0.0 of times\n",
      "For 85000 indepent votes, people are right 0.0 of times\n",
      "For 90000 indepent votes, people are right 0.0 of times\n",
      "For 95000 indepent votes, people are right 0.01 of times\n"
     ]
    }
   ],
   "source": [
    "\n",
    "for i in range(5000, 100000, 5000):\n",
    "    results = []\n",
    "    for j in range(100):\n",
    "        results.append(gen_evidence(i)[1])\n",
    "    print('For %s indepent votes, people are right %s of times' % (i, len(list(filter(lambda x: x > 0.5, results))) / 100.0))\n"
   ]
  }
 ],
 "metadata": {
  "kernelspec": {
   "display_name": "Python [Root]",
   "language": "python",
   "name": "Python [Root]"
  },
  "language_info": {
   "codemirror_mode": {
    "name": "ipython",
    "version": 3
   },
   "file_extension": ".py",
   "mimetype": "text/x-python",
   "name": "python",
   "nbconvert_exporter": "python",
   "pygments_lexer": "ipython3",
   "version": "3.5.2"
  }
 },
 "nbformat": 4,
 "nbformat_minor": 0
}

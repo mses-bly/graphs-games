{
 "cells": [
  {
   "cell_type": "markdown",
   "metadata": {},
   "source": [
    "### 5a"
   ]
  },
  {
   "cell_type": "code",
   "execution_count": 1,
   "metadata": {
    "collapsed": true
   },
   "outputs": [],
   "source": [
    "import random"
   ]
  },
  {
   "cell_type": "code",
   "execution_count": 87,
   "metadata": {
    "collapsed": false
   },
   "outputs": [
    {
     "name": "stdout",
     "output_type": "stream",
     "text": [
      "([1, 1, 1, 0, 0, 0, 0, 0, 0, 0, 0, 0, 1, 0, 0, 1, 0, 0, 0, 1], 0.3)\n"
     ]
    }
   ],
   "source": [
    "# for each call, we generate N independent pieces of evidence and return how many times the majority are correct:\n",
    "# number of ones over N\n",
    "def gen_evidence(N, epsilon=0.005):\n",
    "    evidence = []\n",
    "    for i in range(N):\n",
    "        prob = random.uniform(0, 1)\n",
    "        if prob > (0.5 + epsilon):\n",
    "            evidence.append(1)\n",
    "        else:\n",
    "            evidence.append(0)\n",
    "    return evidence, sum(evidence) / len(evidence)"
   ]
  },
  {
   "cell_type": "markdown",
   "metadata": {},
   "source": [
    "### 5b"
   ]
  },
  {
   "cell_type": "code",
   "execution_count": 95,
   "metadata": {
    "collapsed": false
   },
   "outputs": [
    {
     "name": "stdout",
     "output_type": "stream",
     "text": [
      "100\n"
     ]
    },
    {
     "data": {
      "text/plain": [
       "[0.5008, 0.50068]"
      ]
     },
     "execution_count": 95,
     "metadata": {},
     "output_type": "execute_result"
    }
   ],
   "source": [
    "results = []\n",
    "for i in range(5000, 5000*101, 5000):\n",
    "    results.append(gen_evidence(i)[1])\n",
    "    \n",
    "print(len(results))    \n",
    "list(filter(lambda x: x > 0.5, results))\n"
   ]
  }
 ],
 "metadata": {
  "kernelspec": {
   "display_name": "Python [Root]",
   "language": "python",
   "name": "Python [Root]"
  },
  "language_info": {
   "codemirror_mode": {
    "name": "ipython",
    "version": 3
   },
   "file_extension": ".py",
   "mimetype": "text/x-python",
   "name": "python",
   "nbconvert_exporter": "python",
   "pygments_lexer": "ipython3",
   "version": "3.5.2"
  }
 },
 "nbformat": 4,
 "nbformat_minor": 0
}

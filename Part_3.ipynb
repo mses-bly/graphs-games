{
 "cells": [
  {
   "cell_type": "markdown",
   "metadata": {},
   "source": [
    "### 5a"
   ]
  },
  {
   "cell_type": "code",
   "execution_count": 1,
   "metadata": {
    "collapsed": true
   },
   "outputs": [],
   "source": [
    "import random"
   ]
  },
  {
   "cell_type": "code",
   "execution_count": 99,
   "metadata": {
    "collapsed": false
   },
   "outputs": [],
   "source": [
    "# for each call, we generate N independent pieces of evidence and return how many times the majority are correct:\n",
    "# number of ones over N\n",
    "def gen_evidence(N, epsilon=0.005):\n",
    "    evidence = []\n",
    "    for i in range(N):\n",
    "        prob = random.uniform(0, 1)\n",
    "        if(prob +epsilon) > (0.5):\n",
    "            evidence.append(1)\n",
    "        else:\n",
    "            evidence.append(0)\n",
    "    return evidence, sum(evidence) / len(evidence)"
   ]
  },
  {
   "cell_type": "markdown",
   "metadata": {},
   "source": [
    "### 5b"
   ]
  },
  {
   "cell_type": "code",
   "execution_count": null,
   "metadata": {
    "collapsed": false
   },
   "outputs": [
    {
     "name": "stdout",
     "output_type": "stream",
     "text": [
      "For 5000 indepent votes, people are right 0.78 of times\n",
      "For 10000 indepent votes, people are right 0.83 of times\n",
      "For 15000 indepent votes, people are right 0.93 of times\n",
      "For 20000 indepent votes, people are right 0.92 of times\n",
      "For 25000 indepent votes, people are right 0.94 of times\n",
      "For 30000 indepent votes, people are right 0.96 of times\n",
      "For 35000 indepent votes, people are right 0.94 of times\n",
      "For 40000 indepent votes, people are right 0.98 of times\n",
      "For 45000 indepent votes, people are right 0.98 of times\n"
     ]
    }
   ],
   "source": [
    "\n",
    "for i in range(5000, 100000, 5000):\n",
    "    results = []\n",
    "    for j in range(100):\n",
    "        results.append(gen_evidence(i)[1])\n",
    "    print('For %s indepent votes, people are right %s of times' % (i, len(list(filter(lambda x: x > 0.5, results))) / 100.0))\n"
   ]
  }
 ],
 "metadata": {
  "kernelspec": {
   "display_name": "Python [Root]",
   "language": "python",
   "name": "Python [Root]"
  },
  "language_info": {
   "codemirror_mode": {
    "name": "ipython",
    "version": 3
   },
   "file_extension": ".py",
   "mimetype": "text/x-python",
   "name": "python",
   "nbconvert_exporter": "python",
   "pygments_lexer": "ipython3",
   "version": "3.5.2"
  }
 },
 "nbformat": 4,
 "nbformat_minor": 0
}
